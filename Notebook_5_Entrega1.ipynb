{
 "cells": [
  {
   "cell_type": "markdown",
   "metadata": {
    "id": "Gp2WddtV9IwG"
   },
   "source": [
    "# Programa Ingenias+ Data Science"
   ]
  },
  {
   "cell_type": "markdown",
   "metadata": {
    "id": "H4M1yVbf9IwH"
   },
   "source": [
    "Como dijimos en clases anteriores, Python tiene implementadas muchas librerias para poder trabajar con datos. En la clase de hoy trabajaremos con una de ellas: `Numpy`."
   ]
  },
  {
   "cell_type": "markdown",
   "metadata": {
    "id": "GdTT8WeL9IwI"
   },
   "source": [
    "Antes de comenzar, vamos a hablar un poco de esta libreria o modulo.\n",
    "\n",
    "**Numpy** es una librería optimizada para realizar cálculos numéricos con vectores y matrices. A diferencia de otros lenguajes de programación, Python no posee en su estructura central la figura de matrices. Eso quiere decir que para poder trabajar con esta estructura de datos deberiamos trabajar con listas de listas. NumPy introduce el concepto de arrays o matrices."
   ]
  },
  {
   "cell_type": "markdown",
   "metadata": {
    "id": "qWkq3EHK9IwK"
   },
   "source": [
    "Al ser de código abierto, `numpy` posee una documentación muy amplia que es **SIEMPRE RECOMENDABLE** consultar."
   ]
  },
  {
   "cell_type": "markdown",
   "metadata": {
    "id": "nxe3KLUO9IwL"
   },
   "source": [
    "- [Documentacion NumPy](https://devdocs.io/numpy/)"
   ]
  },
  {
   "cell_type": "markdown",
   "metadata": {
    "id": "l1Ay3nSs9IwN"
   },
   "source": [
    "## Clase 4: Introduccion a NumPy"
   ]
  },
  {
   "cell_type": "markdown",
   "metadata": {
    "id": "X03mviQS9IyL"
   },
   "source": [
    "# Ejercicios\n",
    "\n",
    "1. Crear un arreglo de ceros de longitud 12\n",
    "2. Crear un arreglo de longitud 10 con ceros en todas sus posiciones y un 10 en la posición número 5\n",
    "3. Crear un arreglo que tenga los números del 10 al 49\n",
    "4. Crear una arreglo 2d de shape (3, 3) que tenga los números del 0 al 8\n",
    "5. Crear un arreglo de números aleatorios de longitud 100 y obtener su media y varianza\n",
    "6. Calcular la media de un arreglo usando np.sum\n",
    "7. Calcular la varianza de un arreglo usando np.sum y np.mean\n",
    "8. Crear un array de números aleatorios usando np.random.randn.\n"
   ]
  },
  {
   "cell_type": "code",
   "execution_count": 2,
   "metadata": {},
   "outputs": [],
   "source": [
    "import numpy as np"
   ]
  },
  {
   "cell_type": "code",
   "execution_count": 7,
   "metadata": {},
   "outputs": [
    {
     "name": "stdout",
     "output_type": "stream",
     "text": [
      "[0. 0. 0. 0. 0. 0. 0. 0. 0. 0. 0. 0.]\n"
     ]
    }
   ],
   "source": [
    "# 1.Crear un arreglo de ceros de longitud 12\n",
    "arreglo_ceros = np.zeros(12)\n",
    "print(arreglo_ceros)"
   ]
  },
  {
   "cell_type": "code",
   "execution_count": 12,
   "metadata": {},
   "outputs": [
    {
     "name": "stdout",
     "output_type": "stream",
     "text": [
      "[ 0.  0.  0.  0. 10.  0.  0.  0.  0.  0.]\n"
     ]
    }
   ],
   "source": [
    "# 2.Crear un arreglo de longitud 10 con ceros en todas sus posiciones\n",
    "arreglo = np.zeros(10)\n",
    "\n",
    "# Asignar el valor 10 a la posición número 5 (índice 4)\n",
    "arreglo[4] = 10\n",
    "print(arreglo)"
   ]
  },
  {
   "cell_type": "code",
   "execution_count": 11,
   "metadata": {},
   "outputs": [
    {
     "name": "stdout",
     "output_type": "stream",
     "text": [
      "[10 11 12 13 14 15 16 17 18 19 20 21 22 23 24 25 26 27 28 29 30 31 32 33\n",
      " 34 35 36 37 38 39 40 41 42 43 44 45 46 47 48 49]\n"
     ]
    }
   ],
   "source": [
    "# 3.Crear un arreglo que tenga los números del 10 al 49.\n",
    "arreglo = np.arange(10, 50)\n",
    "print(arreglo)"
   ]
  },
  {
   "cell_type": "code",
   "execution_count": 19,
   "metadata": {},
   "outputs": [
    {
     "name": "stdout",
     "output_type": "stream",
     "text": [
      "[[0 1 2]\n",
      " [3 4 5]\n",
      " [6 7 8]]\n"
     ]
    }
   ],
   "source": [
    "# 4.Crear una arreglo 2d de shape (3, 3) que tenga los números del 0 al 8.\n",
    "lista = [[0,1,2],[3,4,5],[6,7,8]]\n",
    "arr2d = np.array(lista)\n",
    "print(arr2d)"
   ]
  },
  {
   "cell_type": "code",
   "execution_count": 41,
   "metadata": {},
   "outputs": [
    {
     "name": "stdout",
     "output_type": "stream",
     "text": [
      "2\n"
     ]
    }
   ],
   "source": [
    "# Chequeo pto 4.\n",
    "print(arr2d.ndim)"
   ]
  },
  {
   "cell_type": "code",
   "execution_count": 22,
   "metadata": {},
   "outputs": [
    {
     "name": "stdout",
     "output_type": "stream",
     "text": [
      "Media: 0.5236371191865352\n",
      "Varianza: 0.083790335180522\n"
     ]
    }
   ],
   "source": [
    "# 5.Crear un arreglo de números aleatorios de longitud 100 y obtener su media y varianza\n",
    "numeros_aleatorios = np.random.rand(100)\n",
    "# Calcular la media y la varianza\n",
    "media = np.mean(numeros_aleatorios)\n",
    "varianza = np.var(numeros_aleatorios)\n",
    "print(\"Media:\", media)\n",
    "print(\"Varianza:\", varianza)"
   ]
  },
  {
   "cell_type": "code",
   "execution_count": 27,
   "metadata": {},
   "outputs": [
    {
     "name": "stdout",
     "output_type": "stream",
     "text": [
      "Media del arreglo: 3.0\n"
     ]
    }
   ],
   "source": [
    "# 6.Calcular la media de un arreglo usando np.sum\n",
    "nuevo_arreglo = np.array([1, 2, 3, 4, 5])\n",
    "# Calcular la suma de los elementos del arreglo\n",
    "suma_total = np.sum(nuevo_arreglo)\n",
    "# Calcular la media dividiendo la suma total entre la longitud del arreglo\n",
    "media = suma_total / nuevo_arreglo.size\n",
    "print(\"Media del arreglo:\", media)"
   ]
  },
  {
   "cell_type": "code",
   "execution_count": 40,
   "metadata": {},
   "outputs": [
    {
     "name": "stdout",
     "output_type": "stream",
     "text": [
      "15\n"
     ]
    }
   ],
   "source": [
    "# Chequeo pto 6.\n",
    "nuevo_arreglo = np.array([1, 2, 3, 4, 5])\n",
    "suma_total = np.sum(nuevo_arreglo)\n",
    "print(suma_total)"
   ]
  },
  {
   "cell_type": "code",
   "execution_count": 44,
   "metadata": {},
   "outputs": [
    {
     "name": "stdout",
     "output_type": "stream",
     "text": [
      "Varianza del arreglo: 2.0\n"
     ]
    }
   ],
   "source": [
    "# 7.Calcular la varianza de un arreglo usando np.sum y np.mean\n",
    "# Varianza = Sumatoria ((xi - xmed)^2)/n \n",
    "\n",
    "nuevo_arreglo2 = np.array([6, 7, 8, 9, 10])\n",
    "\n",
    "# Paso 1: Calcular la media del arreglo\n",
    "media = np.mean(nuevo_arreglo2)\n",
    "\n",
    "# Paso 2: Restar la media de cada elemento del arreglo\n",
    "diferencias = nuevo_arreglo2 - media\n",
    "\n",
    "# Paso 3: Elevar al cuadrado cada diferencia\n",
    "diferencias_cuadradas = diferencias ** 2\n",
    "\n",
    "# Paso 4: Sumar todos los cuadrados de las diferencias\n",
    "suma_cuadrados = np.sum(diferencias_cuadradas)\n",
    "\n",
    "# Paso 5: Dividir esta suma por la longitud del arreglo para obtener la varianza\n",
    "varianza = suma_cuadrados / nuevo_arreglo2.size\n",
    "\n",
    "print(\"Varianza del arreglo:\", varianza)"
   ]
  },
  {
   "cell_type": "code",
   "execution_count": 45,
   "metadata": {},
   "outputs": [
    {
     "name": "stdout",
     "output_type": "stream",
     "text": [
      "8.0\n"
     ]
    }
   ],
   "source": [
    "# Chequeo pto 7.\n",
    "nuevo_arreglo2 = np.array([6, 7, 8, 9, 10])\n",
    "media = np.mean(nuevo_arreglo2)\n",
    "print(media)"
   ]
  },
  {
   "cell_type": "code",
   "execution_count": 51,
   "metadata": {},
   "outputs": [
    {
     "name": "stdout",
     "output_type": "stream",
     "text": [
      "[-2. -1.  0.  1.  2.]\n"
     ]
    }
   ],
   "source": [
    "# Chequeo pto 7.\n",
    "diferencias = nuevo_arreglo2 - media\n",
    "print(diferencias)"
   ]
  },
  {
   "cell_type": "code",
   "execution_count": 49,
   "metadata": {},
   "outputs": [
    {
     "name": "stdout",
     "output_type": "stream",
     "text": [
      "[4. 1. 0. 1. 4.]\n"
     ]
    }
   ],
   "source": [
    "# Chequeo pto 7.\n",
    "diferencias_cuadradas = diferencias ** 2\n",
    "print (diferencias_cuadradas)"
   ]
  },
  {
   "cell_type": "code",
   "execution_count": 50,
   "metadata": {},
   "outputs": [
    {
     "name": "stdout",
     "output_type": "stream",
     "text": [
      "10.0\n"
     ]
    }
   ],
   "source": [
    "# Chequeo pto 7.\n",
    "suma_cuadrados = np.sum(diferencias_cuadradas)\n",
    "print (suma_cuadrados)"
   ]
  },
  {
   "cell_type": "code",
   "execution_count": 52,
   "metadata": {},
   "outputs": [
    {
     "name": "stdout",
     "output_type": "stream",
     "text": [
      "Array de números aleatorios:\n",
      "[ 0.40186013 -1.09747535 -0.12097283 -0.80487051  0.67927055 -0.96381771\n",
      "  1.93662242 -0.99114494  0.42775159 -1.64219187]\n"
     ]
    }
   ],
   "source": [
    "# 8. Crear un array de números aleatorios usando np.random.randn.\n",
    "arreglo_aleatorio = np.random.randn(10)\n",
    "print(\"Array de números aleatorios:\")\n",
    "print(arreglo_aleatorio)"
   ]
  }
 ],
 "metadata": {
  "colab": {
   "provenance": []
  },
  "kernelspec": {
   "display_name": "Python 3 (ipykernel)",
   "language": "python",
   "name": "python3"
  },
  "language_info": {
   "codemirror_mode": {
    "name": "ipython",
    "version": 3
   },
   "file_extension": ".py",
   "mimetype": "text/x-python",
   "name": "python",
   "nbconvert_exporter": "python",
   "pygments_lexer": "ipython3",
   "version": "3.11.7"
  }
 },
 "nbformat": 4,
 "nbformat_minor": 4
}
