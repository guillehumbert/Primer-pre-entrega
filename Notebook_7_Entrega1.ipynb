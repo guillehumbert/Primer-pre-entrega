{
 "cells": [
  {
   "cell_type": "markdown",
   "metadata": {
    "id": "4CoLDDN0Scje"
   },
   "source": [
    "## Programa Ingenias+ Data Science"
   ]
  },
  {
   "cell_type": "markdown",
   "metadata": {
    "id": "Rkizi-vlScjg"
   },
   "source": [
    "## Trabajando con Pandas"
   ]
  },
  {
   "cell_type": "markdown",
   "metadata": {
    "id": "VRd6Ow_aScjg"
   },
   "source": [
    "1) Importa las librerias requeridas: `Pandas` y `NumPy`.  \n",
    "\n",
    "Una buena practica a la hora de escribir codigo es de comentar siempre que estoy haciendo (usando `#`) en la linea anterior. Por mas obvio que parezca lo que voy a hacer, puede ser que tenga que compartir el documento con otras personas y no sepan que quise hacer en cada linea. O que yo mismo lea el codigo tiempo despues y no recuerde porque lo hice."
   ]
  },
  {
   "cell_type": "code",
   "execution_count": 2,
   "metadata": {
    "id": "Anvt8yoSScji"
   },
   "outputs": [],
   "source": [
    "#Importar las librerias Pandas y NumPy. \n",
    "import numpy as np\n",
    "import pandas as pd"
   ]
  },
  {
   "cell_type": "markdown",
   "metadata": {
    "id": "5YWvHd--Scjl"
   },
   "source": [
    "2) Lee el archivo csv `life_expectancy_data` usando `pandas`. Guardalo en una variable llamada `expvida`."
   ]
  },
  {
   "cell_type": "code",
   "execution_count": 13,
   "metadata": {
    "id": "oM1b7mmxScjm"
   },
   "outputs": [],
   "source": [
    "# 1.Cargo el archivo CSV en un DF y lo defino como expvida\n",
    "df = pd.read_csv('life_expectancy_data.csv')\n",
    "expvida = pd.read_csv('life_expectancy_data.csv')"
   ]
  },
  {
   "cell_type": "markdown",
   "metadata": {
    "id": "-a1OoVvIScjp"
   },
   "source": [
    "3) ¿Que tipo de estructura de datos contiene la variable `expvida`?"
   ]
  },
  {
   "cell_type": "code",
   "execution_count": 14,
   "metadata": {
    "id": "7R6g46UGScjp"
   },
   "outputs": [
    {
     "name": "stdout",
     "output_type": "stream",
     "text": [
      "<class 'pandas.core.frame.DataFrame'>\n"
     ]
    }
   ],
   "source": [
    "# Obtengo el tipo de estructura de datos\n",
    "print(type(expvida))"
   ]
  },
  {
   "cell_type": "markdown",
   "metadata": {
    "id": "EBwmuoKKScjv"
   },
   "source": [
    "4) ¿Cuantas filas y columnas tiene `expvida`?"
   ]
  },
  {
   "cell_type": "code",
   "execution_count": 15,
   "metadata": {
    "id": "1oKt4xZmScjw"
   },
   "outputs": [],
   "source": [
    "# Uso .shape para obtener cantidad de filas y columnas\n",
    "num_filas, num_columnas = expvida.shape\n"
   ]
  },
  {
   "cell_type": "markdown",
   "metadata": {
    "id": "O-ICrkf6Scj0"
   },
   "source": [
    "**Numero de filas**:"
   ]
  },
  {
   "cell_type": "code",
   "execution_count": 16,
   "metadata": {},
   "outputs": [
    {
     "name": "stdout",
     "output_type": "stream",
     "text": [
      "Número de filas: 2938\n"
     ]
    }
   ],
   "source": [
    "print(\"Número de filas:\", num_filas)"
   ]
  },
  {
   "cell_type": "markdown",
   "metadata": {
    "id": "zXyS8xzFScj0"
   },
   "source": [
    "**Numero de columnas**:"
   ]
  },
  {
   "cell_type": "code",
   "execution_count": 17,
   "metadata": {},
   "outputs": [
    {
     "name": "stdout",
     "output_type": "stream",
     "text": [
      "Número de columnas: 22\n"
     ]
    }
   ],
   "source": [
    "print(\"Número de columnas:\", num_columnas)"
   ]
  },
  {
   "cell_type": "markdown",
   "metadata": {
    "id": "V3cNAjIIScj1"
   },
   "source": [
    "5) ¿Cual es el nombre de las columnas contenidas en `expvida`?"
   ]
  },
  {
   "cell_type": "code",
   "execution_count": 18,
   "metadata": {
    "id": "Cr61t2ALScj2"
   },
   "outputs": [
    {
     "name": "stdout",
     "output_type": "stream",
     "text": [
      "Nombres de las columnas: Index(['Country', 'Year', 'Status', 'Life expectancy ', 'Adult Mortality',\n",
      "       'infant deaths', 'Alcohol', 'percentage expenditure', 'Hepatitis B',\n",
      "       'Measles ', ' BMI ', 'under-five deaths ', 'Polio', 'Total expenditure',\n",
      "       'Diphtheria ', ' HIV/AIDS', 'GDP', 'Population',\n",
      "       ' thinness  1-19 years', ' thinness 5-9 years',\n",
      "       'Income composition of resources', 'Schooling'],\n",
      "      dtype='object')\n"
     ]
    }
   ],
   "source": [
    "# Obtengo el nombre de las columnas\n",
    "nombres_columnas = expvida.columns\n",
    "print(\"Nombres de las columnas:\", nombres_columnas)"
   ]
  },
  {
   "cell_type": "markdown",
   "metadata": {
    "id": "xbXCaw0mScj5"
   },
   "source": [
    "6) Inspecciona las primeras 10 filas de `expvida`"
   ]
  },
  {
   "cell_type": "code",
   "execution_count": 19,
   "metadata": {
    "id": "WSUs6-wmScj6"
   },
   "outputs": [
    {
     "name": "stdout",
     "output_type": "stream",
     "text": [
      "       Country  Year      Status  Life expectancy   Adult Mortality  \\\n",
      "0  Afghanistan  2015  Developing              65.0            263.0   \n",
      "1  Afghanistan  2014  Developing              59.9            271.0   \n",
      "2  Afghanistan  2013  Developing              59.9            268.0   \n",
      "3  Afghanistan  2012  Developing              59.5            272.0   \n",
      "4  Afghanistan  2011  Developing              59.2            275.0   \n",
      "5  Afghanistan  2010  Developing              58.8            279.0   \n",
      "6  Afghanistan  2009  Developing              58.6            281.0   \n",
      "7  Afghanistan  2008  Developing              58.1            287.0   \n",
      "8  Afghanistan  2007  Developing              57.5            295.0   \n",
      "9  Afghanistan  2006  Developing              57.3            295.0   \n",
      "\n",
      "   infant deaths  Alcohol  percentage expenditure  Hepatitis B  Measles   ...  \\\n",
      "0             62     0.01               71.279624         65.0      1154  ...   \n",
      "1             64     0.01               73.523582         62.0       492  ...   \n",
      "2             66     0.01               73.219243         64.0       430  ...   \n",
      "3             69     0.01               78.184215         67.0      2787  ...   \n",
      "4             71     0.01                7.097109         68.0      3013  ...   \n",
      "5             74     0.01               79.679367         66.0      1989  ...   \n",
      "6             77     0.01               56.762217         63.0      2861  ...   \n",
      "7             80     0.03               25.873925         64.0      1599  ...   \n",
      "8             82     0.02               10.910156         63.0      1141  ...   \n",
      "9             84     0.03               17.171518         64.0      1990  ...   \n",
      "\n",
      "   Polio  Total expenditure  Diphtheria    HIV/AIDS         GDP  Population  \\\n",
      "0    6.0               8.16         65.0        0.1  584.259210  33736494.0   \n",
      "1   58.0               8.18         62.0        0.1  612.696514    327582.0   \n",
      "2   62.0               8.13         64.0        0.1  631.744976  31731688.0   \n",
      "3   67.0               8.52         67.0        0.1  669.959000   3696958.0   \n",
      "4   68.0               7.87         68.0        0.1   63.537231   2978599.0   \n",
      "5   66.0               9.20         66.0        0.1  553.328940   2883167.0   \n",
      "6   63.0               9.42         63.0        0.1  445.893298    284331.0   \n",
      "7   64.0               8.33         64.0        0.1  373.361116   2729431.0   \n",
      "8   63.0               6.73         63.0        0.1  369.835796  26616792.0   \n",
      "9   58.0               7.43         58.0        0.1  272.563770   2589345.0   \n",
      "\n",
      "    thinness  1-19 years   thinness 5-9 years  \\\n",
      "0                   17.2                 17.3   \n",
      "1                   17.5                 17.5   \n",
      "2                   17.7                 17.7   \n",
      "3                   17.9                 18.0   \n",
      "4                   18.2                 18.2   \n",
      "5                   18.4                 18.4   \n",
      "6                   18.6                 18.7   \n",
      "7                   18.8                 18.9   \n",
      "8                   19.0                 19.1   \n",
      "9                   19.2                 19.3   \n",
      "\n",
      "   Income composition of resources  Schooling  \n",
      "0                            0.479       10.1  \n",
      "1                            0.476       10.0  \n",
      "2                            0.470        9.9  \n",
      "3                            0.463        9.8  \n",
      "4                            0.454        9.5  \n",
      "5                            0.448        9.2  \n",
      "6                            0.434        8.9  \n",
      "7                            0.433        8.7  \n",
      "8                            0.415        8.4  \n",
      "9                            0.405        8.1  \n",
      "\n",
      "[10 rows x 22 columns]\n"
     ]
    }
   ],
   "source": [
    "# Inspecciono las primeras filas\n",
    "print(expvida.head(10))\n"
   ]
  },
  {
   "cell_type": "markdown",
   "metadata": {
    "id": "99b7sMhZScj_"
   },
   "source": [
    "7) Y ahora las 10 ultimas."
   ]
  },
  {
   "cell_type": "code",
   "execution_count": 20,
   "metadata": {
    "id": "yaMMoHc7Scj_"
   },
   "outputs": [
    {
     "name": "stdout",
     "output_type": "stream",
     "text": [
      "       Country  Year      Status  Life expectancy   Adult Mortality  \\\n",
      "2928  Zimbabwe  2009  Developing              50.0            587.0   \n",
      "2929  Zimbabwe  2008  Developing              48.2            632.0   \n",
      "2930  Zimbabwe  2007  Developing              46.6             67.0   \n",
      "2931  Zimbabwe  2006  Developing              45.4              7.0   \n",
      "2932  Zimbabwe  2005  Developing              44.6            717.0   \n",
      "2933  Zimbabwe  2004  Developing              44.3            723.0   \n",
      "2934  Zimbabwe  2003  Developing              44.5            715.0   \n",
      "2935  Zimbabwe  2002  Developing              44.8             73.0   \n",
      "2936  Zimbabwe  2001  Developing              45.3            686.0   \n",
      "2937  Zimbabwe  2000  Developing              46.0            665.0   \n",
      "\n",
      "      infant deaths  Alcohol  percentage expenditure  Hepatitis B  Measles   \\\n",
      "2928             30     4.64                1.040021         73.0       853   \n",
      "2929             30     3.56               20.843429         75.0         0   \n",
      "2930             29     3.88               29.814566         72.0       242   \n",
      "2931             28     4.57               34.262169         68.0       212   \n",
      "2932             28     4.14                8.717409         65.0       420   \n",
      "2933             27     4.36                0.000000         68.0        31   \n",
      "2934             26     4.06                0.000000          7.0       998   \n",
      "2935             25     4.43                0.000000         73.0       304   \n",
      "2936             25     1.72                0.000000         76.0       529   \n",
      "2937             24     1.68                0.000000         79.0      1483   \n",
      "\n",
      "      ...  Polio  Total expenditure  Diphtheria    HIV/AIDS         GDP  \\\n",
      "2928  ...   69.0               6.26         73.0       18.1   65.824121   \n",
      "2929  ...   75.0               4.96         75.0       20.5  325.678573   \n",
      "2930  ...   73.0               4.47         73.0       23.7  396.998217   \n",
      "2931  ...   71.0               5.12          7.0       26.8  414.796232   \n",
      "2932  ...   69.0               6.44         68.0       30.3  444.765750   \n",
      "2933  ...   67.0               7.13         65.0       33.6  454.366654   \n",
      "2934  ...    7.0               6.52         68.0       36.7  453.351155   \n",
      "2935  ...   73.0               6.53         71.0       39.8   57.348340   \n",
      "2936  ...   76.0               6.16         75.0       42.1  548.587312   \n",
      "2937  ...   78.0               7.10         78.0       43.5  547.358878   \n",
      "\n",
      "      Population   thinness  1-19 years   thinness 5-9 years  \\\n",
      "2928   1381599.0                    7.5                  7.4   \n",
      "2929  13558469.0                    7.8                  7.8   \n",
      "2930   1332999.0                    8.2                  8.2   \n",
      "2931  13124267.0                    8.6                  8.6   \n",
      "2932    129432.0                    9.0                  9.0   \n",
      "2933  12777511.0                    9.4                  9.4   \n",
      "2934  12633897.0                    9.8                  9.9   \n",
      "2935    125525.0                    1.2                  1.3   \n",
      "2936  12366165.0                    1.6                  1.7   \n",
      "2937  12222251.0                   11.0                 11.2   \n",
      "\n",
      "      Income composition of resources  Schooling  \n",
      "2928                            0.419        9.9  \n",
      "2929                            0.421        9.7  \n",
      "2930                            0.414        9.6  \n",
      "2931                            0.408        9.5  \n",
      "2932                            0.406        9.3  \n",
      "2933                            0.407        9.2  \n",
      "2934                            0.418        9.5  \n",
      "2935                            0.427       10.0  \n",
      "2936                            0.427        9.8  \n",
      "2937                            0.434        9.8  \n",
      "\n",
      "[10 rows x 22 columns]\n"
     ]
    }
   ],
   "source": [
    "# Inspecciono las ultimas filas\n",
    "print(expvida.tail(10))\n"
   ]
  },
  {
   "cell_type": "markdown",
   "metadata": {
    "id": "thLRW3GjSckC"
   },
   "source": [
    "8) ¿Que tipos de datos contiene cada una de las columnas de `expvida`?"
   ]
  },
  {
   "cell_type": "code",
   "execution_count": 21,
   "metadata": {
    "id": "AfAgFAJdSckD"
   },
   "outputs": [
    {
     "name": "stdout",
     "output_type": "stream",
     "text": [
      "Tipos de datos de cada columna:\n",
      "Country                             object\n",
      "Year                                 int64\n",
      "Status                              object\n",
      "Life expectancy                    float64\n",
      "Adult Mortality                    float64\n",
      "infant deaths                        int64\n",
      "Alcohol                            float64\n",
      "percentage expenditure             float64\n",
      "Hepatitis B                        float64\n",
      "Measles                              int64\n",
      " BMI                               float64\n",
      "under-five deaths                    int64\n",
      "Polio                              float64\n",
      "Total expenditure                  float64\n",
      "Diphtheria                         float64\n",
      " HIV/AIDS                          float64\n",
      "GDP                                float64\n",
      "Population                         float64\n",
      " thinness  1-19 years              float64\n",
      " thinness 5-9 years                float64\n",
      "Income composition of resources    float64\n",
      "Schooling                          float64\n",
      "dtype: object\n"
     ]
    }
   ],
   "source": [
    "# Tipo de datos en cada columna\n",
    "tipos_de_datos = expvida.dtypes\n",
    "print(\"Tipos de datos de cada columna:\")\n",
    "print(tipos_de_datos)"
   ]
  },
  {
   "cell_type": "markdown",
   "metadata": {
    "id": "7Nsyhb7LSckG"
   },
   "source": [
    "9) ¿Hay valores faltantes en alguna de las columnas de `expvida`?"
   ]
  },
  {
   "cell_type": "code",
   "execution_count": 24,
   "metadata": {
    "id": "DP_IgUWzSckI"
   },
   "outputs": [
    {
     "name": "stdout",
     "output_type": "stream",
     "text": [
      "Cantidad de datos faltantes en cada columna:\n",
      "Country                              0\n",
      "Year                                 0\n",
      "Status                               0\n",
      "Life expectancy                     10\n",
      "Adult Mortality                     10\n",
      "infant deaths                        0\n",
      "Alcohol                            194\n",
      "percentage expenditure               0\n",
      "Hepatitis B                        553\n",
      "Measles                              0\n",
      " BMI                                34\n",
      "under-five deaths                    0\n",
      "Polio                               19\n",
      "Total expenditure                  226\n",
      "Diphtheria                          19\n",
      " HIV/AIDS                            0\n",
      "GDP                                448\n",
      "Population                         652\n",
      " thinness  1-19 years               34\n",
      " thinness 5-9 years                 34\n",
      "Income composition of resources    167\n",
      "Schooling                          163\n",
      "dtype: int64\n"
     ]
    }
   ],
   "source": [
    "# Obtengo la cantidad de datos faltantes en cada columna\n",
    "datos_faltantes = expvida.isnull().sum()\n",
    "print(\"Cantidad de datos faltantes en cada columna:\")\n",
    "print(datos_faltantes)"
   ]
  },
  {
   "cell_type": "markdown",
   "metadata": {
    "id": "Q7-bL4tlSckL"
   },
   "source": [
    "10) Selecciona el maximo de datos faltantes. Calcula que porcentaje de los datos representan los datos faltantes."
   ]
  },
  {
   "cell_type": "code",
   "execution_count": 39,
   "metadata": {
    "id": "gicdHYh0SckM"
   },
   "outputs": [],
   "source": [
    "# Obtengo el maximo valor de datos faltantes y lo guardo en la variable masnan\n",
    "max_datos_faltantes = datos_faltantes.max()\n",
    "masnan = datos_faltantes.max()"
   ]
  },
  {
   "cell_type": "code",
   "execution_count": 40,
   "metadata": {
    "id": "Y58Hh90pSckP"
   },
   "outputs": [
    {
     "name": "stdout",
     "output_type": "stream",
     "text": [
      "El máximo de datos faltantes es: 652\n"
     ]
    }
   ],
   "source": [
    "print(\"El máximo de datos faltantes es:\", masnan)"
   ]
  },
  {
   "cell_type": "code",
   "execution_count": 43,
   "metadata": {
    "id": "RuRgzIFBSckT"
   },
   "outputs": [],
   "source": [
    "# Obtengo la cantidad de filas total y divido el maximo valor de datos faltantes por este numero\n",
    "# y lo multiplico por 100\n",
    "#Cantidad de filas total\n",
    "num_filas_total = expvida.shape[0]\n",
    "porcentaje_datos_faltantes = (masnan / num_filas_total) * 100"
   ]
  },
  {
   "cell_type": "code",
   "execution_count": 44,
   "metadata": {
    "id": "1NIY9qQBSckX"
   },
   "outputs": [
    {
     "name": "stdout",
     "output_type": "stream",
     "text": [
      "El máximo porcentaje de datos faltantes es: 22.19%\n"
     ]
    }
   ],
   "source": [
    "# Imprimo el maximo porcentaje de datos faltantes. Uso f-strings.\n",
    "print(f\"El máximo porcentaje de datos faltantes es: {porcentaje_datos_faltantes:.2f}%\")"
   ]
  },
  {
   "cell_type": "markdown",
   "metadata": {
    "id": "r0ukORx9Sckg"
   },
   "source": [
    "- str.format()\n",
    "- Template Class\n",
    "- f-strings"
   ]
  },
  {
   "cell_type": "markdown",
   "metadata": {
    "id": "hUXqdma_Sckj"
   },
   "source": [
    "#### Ahora vamos a realizar algunos calculos y manipulaciones sobre las columnas."
   ]
  },
  {
   "cell_type": "markdown",
   "metadata": {
    "id": "eBzg8GYGSckk"
   },
   "source": [
    "Una función útil para este fin es: `.rename()`. Y podemos utilizarla de la siguiente manera: Si `df` es mi DataFrame y quiero renombrar la columna `columna` como `columna1`, y la columna `columna2` como `columna3`, utilizo la siguiente sintaxis:\n",
    "  \n",
    "`df.rename(columns={\"columna\": \"columna1\", \"columna2\": \"columna3\"}, inplace=True)`"
   ]
  },
  {
   "cell_type": "markdown",
   "metadata": {
    "id": "EYINiSHdSckl"
   },
   "source": [
    "11) Renombra la columna 'Life expectancy ' como 'life_expectancy', ' BMI ' como 'bmi' y ''Measles ' como 'measles'. No olvides de usar `inplace` para modificar el DataFrame original. Luego chequea que el cambio se haya hecho correctamente."
   ]
  },
  {
   "cell_type": "code",
   "execution_count": 54,
   "metadata": {
    "id": "TL4b2ueXSckm"
   },
   "outputs": [],
   "source": [
    "# Renombro columnas del DataFrame\n",
    "expvida.rename(columns={\"Life expectancy \": \"life_expectancy\", \" BMI \": \"bmi\",\"Measles \": \"measles\"}, inplace=True)"
   ]
  },
  {
   "cell_type": "code",
   "execution_count": 55,
   "metadata": {
    "id": "r1RVoERMSckp"
   },
   "outputs": [
    {
     "name": "stdout",
     "output_type": "stream",
     "text": [
      "Nombres de las columnas: Index(['Country', 'Year', 'Status', 'life_expectancy', 'Adult Mortality',\n",
      "       'infant deaths', 'Alcohol', 'percentage expenditure', 'Hepatitis B',\n",
      "       'measles', 'bmi', 'under-five deaths ', 'Polio', 'Total expenditure',\n",
      "       'Diphtheria ', ' HIV/AIDS', 'GDP', 'Population',\n",
      "       ' thinness  1-19 years', ' thinness 5-9 years',\n",
      "       'Income composition of resources', 'Schooling'],\n",
      "      dtype='object')\n"
     ]
    }
   ],
   "source": [
    "# Chequeo que se hayan reemplazado correctamente\n",
    "nombres_columnas = expvida.columns\n",
    "print(\"Nombres de las columnas:\", nombres_columnas)"
   ]
  },
  {
   "cell_type": "markdown",
   "metadata": {
    "id": "cNXpOsdiScks"
   },
   "source": [
    "12) ¿Cual es el promedio de expectativa de vida (Life expectancy) en general?"
   ]
  },
  {
   "cell_type": "code",
   "execution_count": 56,
   "metadata": {
    "id": "OYv3yiXmSckt"
   },
   "outputs": [
    {
     "data": {
      "text/plain": [
       "69.22493169398908"
      ]
     },
     "execution_count": 56,
     "metadata": {},
     "output_type": "execute_result"
    }
   ],
   "source": [
    "# Obtengo el promedio de la columna\n",
    "expvida['life_expectancy'].mean()"
   ]
  },
  {
   "cell_type": "markdown",
   "metadata": {
    "id": "A-bzQhFqSckw"
   },
   "source": [
    "13) ¿Cual es el promedio de expectativa de vida (Life expectancy) por país?"
   ]
  },
  {
   "cell_type": "code",
   "execution_count": 59,
   "metadata": {
    "id": "eWN_AJPMSckx"
   },
   "outputs": [
    {
     "name": "stdout",
     "output_type": "stream",
     "text": [
      "Country\n",
      "Afghanistan                           58.19375\n",
      "Albania                               75.15625\n",
      "Algeria                               73.61875\n",
      "Angola                                49.01875\n",
      "Antigua and Barbuda                   75.05625\n",
      "                                        ...   \n",
      "Venezuela (Bolivarian Republic of)    73.38750\n",
      "Viet Nam                              74.77500\n",
      "Yemen                                 63.86250\n",
      "Zambia                                53.90625\n",
      "Zimbabwe                              50.48750\n",
      "Name: life_expectancy, Length: 193, dtype: float64\n"
     ]
    }
   ],
   "source": [
    "# Obtengo el promedio por pais\n",
    "promedio_por_pais = expvida.groupby('Country')['life_expectancy'].mean()\n",
    "print(promedio_por_pais)"
   ]
  },
  {
   "cell_type": "markdown",
   "metadata": {
    "id": "YIopZIPrSck0"
   },
   "source": [
    "14) ¿Cual es la expectativa de vida mas alta y mas baja? Usa la funcion de pandas y la funcion de NumPy y compara el resultado. ¿Que paises tienen esas expectativas de vida?"
   ]
  },
  {
   "cell_type": "code",
   "execution_count": 65,
   "metadata": {
    "id": "gU8js5J8Sck0"
   },
   "outputs": [],
   "source": [
    "# Maxima expectativa de vida usando numpy\n",
    "max_numpy = np.max(expvida['life_expectancy'])"
   ]
  },
  {
   "cell_type": "code",
   "execution_count": 64,
   "metadata": {
    "id": "_JyNdRuESck2"
   },
   "outputs": [],
   "source": [
    "# Maxima expectativa de vida usando pandas\n",
    "max_pandas = expvida['life_expectancy'].max()"
   ]
  },
  {
   "cell_type": "code",
   "execution_count": 62,
   "metadata": {
    "id": "pTCZ9VJXSck4"
   },
   "outputs": [],
   "source": [
    "# Minima expectativa de vida usando numpy\n",
    "min_numpy = np.min(expvida['life_expectancy'])"
   ]
  },
  {
   "cell_type": "code",
   "execution_count": 63,
   "metadata": {
    "id": "BbJ9nW_LSck6"
   },
   "outputs": [],
   "source": [
    "# Minima expectativa de vida usando pandas\n",
    "min_pandas = expvida['life_expectancy'].min()"
   ]
  },
  {
   "cell_type": "code",
   "execution_count": 67,
   "metadata": {
    "id": "R83PS8f8Sck8"
   },
   "outputs": [
    {
     "name": "stdout",
     "output_type": "stream",
     "text": [
      "Usando Numpy:\n",
      "Expectativa de vida más alta: 89.0\n",
      "Usando Pandas:\n",
      "Expectativa de vida más alta: 89.0\n"
     ]
    }
   ],
   "source": [
    "# Muestro los resultados maximos\n",
    "print(\"Usando NumPy:\")\n",
    "print(\"Expectativa de vida más alta:\", max_numpy)\n",
    "print(\"Usando Pandas:\")\n",
    "print(\"Expectativa de vida más alta:\", max_pandas)"
   ]
  },
  {
   "cell_type": "code",
   "execution_count": 68,
   "metadata": {
    "id": "jUZlYu3BSck_"
   },
   "outputs": [
    {
     "name": "stdout",
     "output_type": "stream",
     "text": [
      "Usando NumPy:\n",
      "Expectativa de vida más baja: 36.3\n",
      "Usando Pandas:\n",
      "Expectativa de vida más baja: 36.3\n"
     ]
    }
   ],
   "source": [
    "# Muestro los resultados minimos\n",
    "print(\"Usando NumPy:\")\n",
    "print(\"Expectativa de vida más baja:\", min_numpy)\n",
    "print(\"Usando Pandas:\")\n",
    "print(\"Expectativa de vida más baja:\", min_pandas)"
   ]
  },
  {
   "cell_type": "code",
   "execution_count": 74,
   "metadata": {
    "id": "et_RZ44GSclB"
   },
   "outputs": [
    {
     "name": "stdout",
     "output_type": "stream",
     "text": [
      "          Country  Year      Status  life_expectancy  Adult Mortality  \\\n",
      "241       Belgium  2014   Developed             89.0             76.0   \n",
      "915       Finland  2014  Developing             89.0             78.0   \n",
      "937        France  2008  Developing             89.0             88.0   \n",
      "938        France  2007  Developing             89.0             89.0   \n",
      "995       Germany  2014   Developed             89.0             69.0   \n",
      "1293        Italy  2004   Developed             89.0             66.0   \n",
      "1850  New Zealand  2010   Developed             89.0             71.0   \n",
      "1916       Norway  2009   Developed             89.0             67.0   \n",
      "2056     Portugal  2014   Developed             89.0             78.0   \n",
      "2433        Spain  2007   Developed             89.0             72.0   \n",
      "2513       Sweden  2007   Developed             89.0             63.0   \n",
      "\n",
      "      infant deaths  Alcohol  percentage expenditure  Hepatitis B  measles  \\\n",
      "241               0    12.60             7163.348923         98.0       70   \n",
      "915               0     8.80             6164.455402          NaN        0   \n",
      "937               3    11.90             7002.785925         47.0      604   \n",
      "938               3    12.20               64.737149         42.0       39   \n",
      "995               2    11.03              941.756291         88.0      443   \n",
      "1293              2     8.98             4270.914882         96.0      599   \n",
      "1850              0     9.62             6664.148708          9.0       43   \n",
      "1916              0     6.68              142.374943          NaN        2   \n",
      "2056              0     9.88              271.254553         98.0        0   \n",
      "2433              2    11.05              510.932701         96.0      267   \n",
      "2513              0     6.90             7593.391622          NaN        1   \n",
      "\n",
      "      ...  Polio  Total expenditure  Diphtheria    HIV/AIDS          GDP  \\\n",
      "241   ...   99.0               1.59         99.0        0.1  47439.39684   \n",
      "915   ...   98.0               9.68         98.0        0.1  49914.61864   \n",
      "937   ...   98.0               1.57         98.0        0.1  45413.65710   \n",
      "938   ...   99.0               1.45         98.0        0.1    416.58397   \n",
      "995   ...   94.0              11.30         95.0        0.1   4792.65288   \n",
      "1293  ...   97.0               8.49         94.0        0.1  31174.56118   \n",
      "1850  ...   93.0              11.20         93.0        0.1  33691.34837   \n",
      "1916  ...   94.0               9.49         94.0        0.1    817.77681   \n",
      "2056  ...   98.0               9.50         98.0        0.1   2277.53613   \n",
      "2433  ...   96.0               8.36         96.0        0.1   3279.41400   \n",
      "2513  ...   98.0               8.92         98.0        0.1  53324.37937   \n",
      "\n",
      "      Population   thinness  1-19 years   thinness 5-9 years  \\\n",
      "241     112957.0                    1.0                  1.0   \n",
      "915    5461512.0                    0.9                  0.8   \n",
      "937    6437499.0                    0.6                  0.6   \n",
      "938    6416229.0                    0.6                  0.6   \n",
      "995      89825.0                    1.1                  1.1   \n",
      "1293  57685327.0                    0.5                  0.5   \n",
      "1850         NaN                    0.3                  0.3   \n",
      "1916   4828726.0                    0.7                  0.7   \n",
      "2056     14162.0                    0.7                  0.5   \n",
      "2433   4522683.0                    0.6                  0.5   \n",
      "2513    914892.0                    1.3                  1.3   \n",
      "\n",
      "      Income composition of resources  Schooling  \n",
      "241                             0.890       16.3  \n",
      "915                             0.890       17.0  \n",
      "937                             0.877       16.1  \n",
      "938                             0.873       16.1  \n",
      "995                             0.920       17.0  \n",
      "1293                            0.846       15.6  \n",
      "1850                            0.899       20.3  \n",
      "1916                            0.936       17.4  \n",
      "2056                            0.837       16.8  \n",
      "2433                            0.849       16.0  \n",
      "2513                            0.895       15.8  \n",
      "\n",
      "[11 rows x 22 columns]\n"
     ]
    }
   ],
   "source": [
    "# Filtro las columnas para mostrar solo las filas que tengan valor\n",
    "# igual al maximo\n",
    "iguales_al_maximo = expvida[expvida['life_expectancy'] == max_pandas]\n",
    "print(iguales_al_maximo)"
   ]
  },
  {
   "cell_type": "code",
   "execution_count": 75,
   "metadata": {
    "id": "IQnm1-44SclE"
   },
   "outputs": [
    {
     "name": "stdout",
     "output_type": "stream",
     "text": [
      "     Country  Year      Status  life_expectancy  Adult Mortality  \\\n",
      "1127   Haiti  2010  Developing             36.3            682.0   \n",
      "\n",
      "      infant deaths  Alcohol  percentage expenditure  Hepatitis B  measles  \\\n",
      "1127             23     5.76               36.292918          NaN        0   \n",
      "\n",
      "      ...  Polio  Total expenditure  Diphtheria    HIV/AIDS         GDP  \\\n",
      "1127  ...   66.0                8.9         66.0        1.9  662.279518   \n",
      "\n",
      "      Population   thinness  1-19 years   thinness 5-9 years  \\\n",
      "1127   9999617.0                    4.0                  4.0   \n",
      "\n",
      "      Income composition of resources  Schooling  \n",
      "1127                             0.47        8.6  \n",
      "\n",
      "[1 rows x 22 columns]\n"
     ]
    }
   ],
   "source": [
    "# Filtro las columnas para mostrar solo las filas que tengan valor\n",
    "# igual al minimo\n",
    "iguales_al_minimo = expvida[expvida['life_expectancy'] == min_pandas]\n",
    "print(iguales_al_minimo)"
   ]
  },
  {
   "cell_type": "markdown",
   "metadata": {
    "id": "mk_q0UUdSclq"
   },
   "source": [
    "15) ¿Cuantas categorias encontramos en la columna \"Status\"? _**Pista**_: Lee acerca de la función [unique()](http://pandas.pydata.org/pandas-docs/stable/reference/api/pandas.Series.unique.html?highlight=unique#pandas.Series.unique)"
   ]
  },
  {
   "cell_type": "code",
   "execution_count": 76,
   "metadata": {
    "id": "HA2tDgWVSclq"
   },
   "outputs": [],
   "source": [
    "# Obtengo los valores unicos de la columna status\n",
    "valores_unicos_status = expvida['Status'].unique()"
   ]
  },
  {
   "cell_type": "code",
   "execution_count": 77,
   "metadata": {},
   "outputs": [
    {
     "name": "stdout",
     "output_type": "stream",
     "text": [
      "Valores únicos de la columna 'Status':\n",
      "['Developing' 'Developed']\n"
     ]
    }
   ],
   "source": [
    "print(\"Valores únicos de la columna 'Status':\")\n",
    "print(valores_unicos_status)"
   ]
  },
  {
   "cell_type": "markdown",
   "metadata": {
    "id": "ps0WfRElSclu"
   },
   "source": [
    "16) ¿Cuantos paises se ubican en cada una de esas categorias de \"Status\"? _**Pista**_: Lee acerca de la función [value_counts()](http://pandas.pydata.org/pandas-docs/stable/reference/api/pandas.Series.value_counts.html)"
   ]
  },
  {
   "cell_type": "code",
   "execution_count": 78,
   "metadata": {
    "id": "a8zkd7TTSclw"
   },
   "outputs": [
    {
     "name": "stdout",
     "output_type": "stream",
     "text": [
      "Número de países en cada categoría de 'Status':\n",
      "Status\n",
      "Developing    2426\n",
      "Developed      512\n",
      "Name: count, dtype: int64\n"
     ]
    }
   ],
   "source": [
    "# Cuento cuantos valores hay de cada categoria\n",
    "conteo_status = expvida['Status'].value_counts()\n",
    "print(\"Número de países en cada categoría de 'Status':\")\n",
    "print(conteo_status)"
   ]
  },
  {
   "cell_type": "markdown",
   "metadata": {
    "id": "IFvTsLnQSclz"
   },
   "source": [
    "18) ¿Cuantos paises presentaron algun caso de Sarampion (**Measles**) en el 2015? **_Pista_**: Lee acerca de la función [.count()](http://pandas.pydata.org/pandas-docs/stable/reference/api/pandas.DataFrame.count.html?highlight=count#pandas.DataFrame.count)"
   ]
  },
  {
   "cell_type": "code",
   "execution_count": 84,
   "metadata": {
    "id": "qOyyukGmSclz"
   },
   "outputs": [
    {
     "name": "stdout",
     "output_type": "stream",
     "text": [
      "Número de países que presentaron algún caso de sarampión en 2015: 121\n"
     ]
    }
   ],
   "source": [
    "# Cuento cuantas filas tienen valores distintos de cero\n",
    "measles_2015 = expvida[(expvida['Year'] == 2015) & (expvida['measles'] > 0)]\n",
    "paises_con_saramp_2015 = measles_2015['Country'].count()\n",
    "print(\"Número de países que presentaron algún caso de sarampión en 2015:\", paises_con_saramp_2015)"
   ]
  },
  {
   "cell_type": "code",
   "execution_count": null,
   "metadata": {
    "id": "aFaOi_mmScl2"
   },
   "outputs": [],
   "source": []
  }
 ],
 "metadata": {
  "colab": {
   "provenance": []
  },
  "kernelspec": {
   "display_name": "Python 3 (ipykernel)",
   "language": "python",
   "name": "python3"
  },
  "language_info": {
   "codemirror_mode": {
    "name": "ipython",
    "version": 3
   },
   "file_extension": ".py",
   "mimetype": "text/x-python",
   "name": "python",
   "nbconvert_exporter": "python",
   "pygments_lexer": "ipython3",
   "version": "3.11.7"
  }
 },
 "nbformat": 4,
 "nbformat_minor": 4
}
